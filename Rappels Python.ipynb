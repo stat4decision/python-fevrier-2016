{
 "cells": [
  {
   "cell_type": "code",
   "execution_count": 1,
   "metadata": {
    "collapsed": true
   },
   "outputs": [],
   "source": [
    "#Définir quatre variables distinctes, un entier, un float, un booléen et une chaîne de caractère et affichez-les dans la console.\n",
    "a=2\n",
    "b=2.0\n",
    "c=\"Python\"\n",
    "d=True"
   ]
  },
  {
   "cell_type": "code",
   "execution_count": 4,
   "metadata": {
    "collapsed": false
   },
   "outputs": [
    {
     "name": "stdout",
     "output_type": "stream",
     "text": [
      "2 2.0 Python True\n"
     ]
    }
   ],
   "source": [
    "print a, b, c, d"
   ]
  },
  {
   "cell_type": "code",
   "execution_count": 9,
   "metadata": {
    "collapsed": false
   },
   "outputs": [
    {
     "data": {
      "text/plain": [
       "(int, float, str, bool)"
      ]
     },
     "execution_count": 9,
     "metadata": {},
     "output_type": "execute_result"
    }
   ],
   "source": [
    "type(a), type(b),type(c),type(d)"
   ]
  },
  {
   "cell_type": "code",
   "execution_count": 17,
   "metadata": {
    "collapsed": false
   },
   "outputs": [
    {
     "name": "stdout",
     "output_type": "stream",
     "text": [
      "9 1\n"
     ]
    }
   ],
   "source": [
    "#Définir une variable X1 en utilisant des opérations d’addition et de puissance \n",
    "#puis une seconde variable X2 en utilisant le modulo et la première variable. \n",
    "#Faire en sorte que X1=9 et X2=1.\n",
    "\n",
    "X1= (2+1)**2\n",
    "X2= X1%2\n",
    "print X1, X2"
   ]
  },
  {
   "cell_type": "code",
   "execution_count": 21,
   "metadata": {
    "collapsed": false
   },
   "outputs": [
    {
     "name": "stdout",
     "output_type": "stream",
     "text": [
      "PYTHON POUR LA DATA SCIENCE\n"
     ]
    }
   ],
   "source": [
    "#Définir une variable comprenant la chaîne ‘Python pour la Science’, \n",
    "#utilisez des opérations sur les chaînes pour afficher ‘PYTHON POUR LA DATA SCIENCE’\n",
    "\n",
    "var=\"Python pour la Science\"\n",
    "print var[:14].upper(), \"DATA\", var[15:].upper()"
   ]
  },
  {
   "cell_type": "code",
   "execution_count": 23,
   "metadata": {
    "collapsed": false
   },
   "outputs": [
    {
     "data": {
      "text/plain": [
       "True"
      ]
     },
     "execution_count": 23,
     "metadata": {},
     "output_type": "execute_result"
    }
   ],
   "source": [
    "#Définir une condition égale à True utilisant les 3 opérateurs \n",
    "not False and True or False"
   ]
  },
  {
   "cell_type": "code",
   "execution_count": 26,
   "metadata": {
    "collapsed": false
   },
   "outputs": [],
   "source": [
    "#Créez une fonction avec un booléen en entrée qui affiche une valeur différente en fonction du booléen entré.\n",
    "\n",
    "def fonc(a):\n",
    "    if a:\n",
    "        print \"1\"\n",
    "    else:\n",
    "        print '2'\n"
   ]
  },
  {
   "cell_type": "code",
   "execution_count": 27,
   "metadata": {
    "collapsed": false
   },
   "outputs": [
    {
     "name": "stdout",
     "output_type": "stream",
     "text": [
      "6\n"
     ]
    }
   ],
   "source": [
    "#Créez une boucle for qui parcourt un range de 0 à 5 et qui ajoute 1 à une variable à chaque boucle\n",
    "var=0\n",
    "for i in range(6):\n",
    "    var+=1\n",
    "\n",
    "print var"
   ]
  },
  {
   "cell_type": "code",
   "execution_count": 29,
   "metadata": {
    "collapsed": false
   },
   "outputs": [
    {
     "name": "stdout",
     "output_type": "stream",
     "text": [
      "Entrez un nombre :4\n",
      "8.0\n"
     ]
    }
   ],
   "source": [
    "#Créer une suite de commande, qui demande l’entrée d’un nombre, multipliez ce nombre par deux et affichez-le en sortie.\n",
    "nb=input(\"Entrez un nombre :\")\n",
    "nb=float(nb)\n",
    "nb*=2\n",
    "print nb"
   ]
  },
  {
   "cell_type": "code",
   "execution_count": 35,
   "metadata": {
    "collapsed": false
   },
   "outputs": [
    {
     "name": "stdout",
     "output_type": "stream",
     "text": [
      "5\n",
      "[1, 2, 5, 4, 22]\n",
      "[5, 4, 22]\n"
     ]
    }
   ],
   "source": [
    "#Créez une liste composée de 5 éléments, affichez la longueur de la liste.\n",
    "ma_liste=[1,2,5,4,3]\n",
    "print len(ma_liste)\n",
    "\n",
    "#Modifiez la dernière valeur de la liste et construisez une seconde liste à partir des 3 dernières valeurs de la liste initiale.\n",
    "ma_liste[4]=22\n",
    "ma_liste2=ma_liste[-3:]\n",
    "\n",
    "print ma_liste\n",
    "print ma_liste2"
   ]
  },
  {
   "cell_type": "code",
   "execution_count": 49,
   "metadata": {
    "collapsed": false
   },
   "outputs": [
    {
     "name": "stdout",
     "output_type": "stream",
     "text": [
      "Vive Socio et Python\n"
     ]
    }
   ],
   "source": [
    "#Créez la chaîne ‘Vive Socio’, transformez-la en une liste de deux éléments.\n",
    "#Ajoutez les valeurs ‘et’ et ‘Python’ à cette liste. Affichez la chaîne de caractère obtenue.\n",
    "\n",
    "ma_chaine = 'Vive Socio'\n",
    "ma_liste = [\"et\", \"Python\"]\n",
    "ma_chaine=list(ma_chaine.split(' '))+ma_liste\n",
    "ma_chaine =\" \".join(ma_chaine)\n",
    "print ma_chaine"
   ]
  },
  {
   "cell_type": "code",
   "execution_count": 50,
   "metadata": {
    "collapsed": false
   },
   "outputs": [
    {
     "name": "stdout",
     "output_type": "stream",
     "text": [
      "25\n"
     ]
    }
   ],
   "source": [
    "#Créer une fonction sans argument qui renvoie une valeur.\n",
    "def fonc():\n",
    "    return 25\n",
    "\n",
    "print fonc()"
   ]
  },
  {
   "cell_type": "code",
   "execution_count": 76,
   "metadata": {
    "collapsed": false
   },
   "outputs": [
    {
     "name": "stdout",
     "output_type": "stream",
     "text": [
      "2.0\n"
     ]
    }
   ],
   "source": [
    "#Construire une fonction prenant en entrée deux listes et qui retourne la moyenne de tous les éléments des deux listes \n",
    "#(une seule valeur)\n",
    "\n",
    "def fonc_moy(a,b):\n",
    "    moy=0.0\n",
    "    for i in a:\n",
    "        moy=moy+i\n",
    "    for j in b:\n",
    "        moy=moy+j\n",
    "  \n",
    "    moy2=float(moy/(len(a)+len(b)))\n",
    "    return moy2\n",
    "\n",
    "print fonc_moy([1,2,2], [1,2,2,4])"
   ]
  },
  {
   "cell_type": "code",
   "execution_count": 81,
   "metadata": {
    "collapsed": false
   },
   "outputs": [
    {
     "name": "stdout",
     "output_type": "stream",
     "text": [
      "La moyenne des éléments des listes [1, 2, 2] et [1, 2, 2, 4, 5] est de 2.375\n"
     ]
    }
   ],
   "source": [
    "#Construire une fonction prenant en entrée deux listes et qui affiche la phrase :\n",
    "#‘La moyenne des éléments des listes nom_liste1 et nom_liste2 est de valeur_moyenne’\n",
    "\n",
    "def affiche_phrase(a,b):\n",
    "    print \"La moyenne des éléments des listes %s et %s est de %s\" % (a,b,fonc_moy(a,b))\n",
    "\n",
    "affiche_phrase([1,2,2], [1,2,2,4,5])"
   ]
  },
  {
   "cell_type": "code",
   "execution_count": null,
   "metadata": {
    "collapsed": true
   },
   "outputs": [],
   "source": []
  }
 ],
 "metadata": {
  "kernelspec": {
   "display_name": "Python 2",
   "language": "python",
   "name": "python2"
  },
  "language_info": {
   "codemirror_mode": {
    "name": "ipython",
    "version": 2
   },
   "file_extension": ".py",
   "mimetype": "text/x-python",
   "name": "python",
   "nbconvert_exporter": "python",
   "pygments_lexer": "ipython2",
   "version": "2.7.10"
  }
 },
 "nbformat": 4,
 "nbformat_minor": 0
}
